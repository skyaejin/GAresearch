{
 "cells": [
  {
   "cell_type": "code",
   "execution_count": 1,
   "id": "64fc7601",
   "metadata": {},
   "outputs": [],
   "source": [
    "#labeled datasets \n",
    "\n",
    "import numpy as np\n",
    "import pandas as pd\n",
    "import matplotlib.pyplot as plt\n",
    "import matplotlib\n",
    "import seaborn as sns\n",
    "import itertools\n",
    "from sklearn.model_selection import train_test_split\n",
    "from sklearn.feature_extraction.text import TfidfVectorizer\n",
    "from sklearn.linear_model import PassiveAggressiveClassifier\n",
    "from sklearn.metrics import accuracy_score, confusion_matrix"
   ]
  },
  {
   "cell_type": "code",
   "execution_count": 2,
   "id": "c82eca45",
   "metadata": {},
   "outputs": [],
   "source": [
    "#default theme\n",
    "plt.style.use('ggplot')\n",
    "sns.color_palette(\"tab10\")\n",
    "sns.set(context='notebook', font_scale=1, rc=None)\n",
    "matplotlib.rcParams['figure.figsize'] =[20,8]\n",
    "matplotlib.rcParams.update({'font.size': 15})"
   ]
  },
  {
   "cell_type": "code",
   "execution_count": 3,
   "id": "df98be17",
   "metadata": {},
   "outputs": [
    {
     "name": "stdout",
     "output_type": "stream",
     "text": [
      "(6335, 4)\n"
     ]
    },
    {
     "data": {
      "text/html": [
       "<div>\n",
       "<style scoped>\n",
       "    .dataframe tbody tr th:only-of-type {\n",
       "        vertical-align: middle;\n",
       "    }\n",
       "\n",
       "    .dataframe tbody tr th {\n",
       "        vertical-align: top;\n",
       "    }\n",
       "\n",
       "    .dataframe thead th {\n",
       "        text-align: right;\n",
       "    }\n",
       "</style>\n",
       "<table border=\"1\" class=\"dataframe\">\n",
       "  <thead>\n",
       "    <tr style=\"text-align: right;\">\n",
       "      <th></th>\n",
       "      <th>Unnamed: 0</th>\n",
       "      <th>title</th>\n",
       "      <th>text</th>\n",
       "      <th>label</th>\n",
       "    </tr>\n",
       "  </thead>\n",
       "  <tbody>\n",
       "    <tr>\n",
       "      <th>0</th>\n",
       "      <td>8476</td>\n",
       "      <td>You Can Smell Hillaryâs Fear</td>\n",
       "      <td>Daniel Greenfield, a Shillman Journalism Fello...</td>\n",
       "      <td>FAKE</td>\n",
       "    </tr>\n",
       "    <tr>\n",
       "      <th>1</th>\n",
       "      <td>10294</td>\n",
       "      <td>Watch The Exact Moment Paul Ryan Committed Pol...</td>\n",
       "      <td>Google Pinterest Digg Linkedin Reddit Stumbleu...</td>\n",
       "      <td>FAKE</td>\n",
       "    </tr>\n",
       "    <tr>\n",
       "      <th>2</th>\n",
       "      <td>3608</td>\n",
       "      <td>Kerry to go to Paris in gesture of sympathy</td>\n",
       "      <td>U.S. Secretary of State John F. Kerry said Mon...</td>\n",
       "      <td>REAL</td>\n",
       "    </tr>\n",
       "    <tr>\n",
       "      <th>3</th>\n",
       "      <td>10142</td>\n",
       "      <td>Bernie supporters on Twitter erupt in anger ag...</td>\n",
       "      <td>â Kaydee King (@KaydeeKing) November 9, 2016...</td>\n",
       "      <td>FAKE</td>\n",
       "    </tr>\n",
       "    <tr>\n",
       "      <th>4</th>\n",
       "      <td>875</td>\n",
       "      <td>The Battle of New York: Why This Primary Matters</td>\n",
       "      <td>It's primary day in New York and front-runners...</td>\n",
       "      <td>REAL</td>\n",
       "    </tr>\n",
       "  </tbody>\n",
       "</table>\n",
       "</div>"
      ],
      "text/plain": [
       "   Unnamed: 0                                              title  \\\n",
       "0        8476                     You Can Smell Hillaryâs Fear   \n",
       "1       10294  Watch The Exact Moment Paul Ryan Committed Pol...   \n",
       "2        3608        Kerry to go to Paris in gesture of sympathy   \n",
       "3       10142  Bernie supporters on Twitter erupt in anger ag...   \n",
       "4         875   The Battle of New York: Why This Primary Matters   \n",
       "\n",
       "                                                text label  \n",
       "0  Daniel Greenfield, a Shillman Journalism Fello...  FAKE  \n",
       "1  Google Pinterest Digg Linkedin Reddit Stumbleu...  FAKE  \n",
       "2  U.S. Secretary of State John F. Kerry said Mon...  REAL  \n",
       "3  â Kaydee King (@KaydeeKing) November 9, 2016...  FAKE  \n",
       "4  It's primary day in New York and front-runners...  REAL  "
      ]
     },
     "execution_count": 3,
     "metadata": {},
     "output_type": "execute_result"
    }
   ],
   "source": [
    "#Read the data\n",
    "df=pd.read_csv(r'C:\\\\Users\\\\SAMSUNG\\\\OneDrive\\\\Desktop\\\\fake_or_real_news.csv', encoding='latin1')\n",
    "\n",
    "#Get shape and head\n",
    "print(df.shape)\n",
    "df.head()"
   ]
  },
  {
   "cell_type": "code",
   "execution_count": 4,
   "id": "941291f2",
   "metadata": {},
   "outputs": [
    {
     "data": {
      "text/plain": [
       "0    FAKE\n",
       "1    FAKE\n",
       "2    REAL\n",
       "3    FAKE\n",
       "4    REAL\n",
       "Name: label, dtype: object"
      ]
     },
     "execution_count": 4,
     "metadata": {},
     "output_type": "execute_result"
    }
   ],
   "source": [
    "labels=df.label\n",
    "labels.head()"
   ]
  },
  {
   "cell_type": "code",
   "execution_count": 28,
   "id": "e5db76cb",
   "metadata": {},
   "outputs": [
    {
     "data": {
      "text/plain": [
       "label\n",
       "REAL    3171\n",
       "FAKE    3164\n",
       "Name: count, dtype: int64"
      ]
     },
     "execution_count": 28,
     "metadata": {},
     "output_type": "execute_result"
    }
   ],
   "source": [
    "target=df.label.value_counts()\n",
    "target"
   ]
  },
  {
   "cell_type": "code",
   "execution_count": 5,
   "id": "b22c2427",
   "metadata": {},
   "outputs": [
    {
     "name": "stderr",
     "output_type": "stream",
     "text": [
      "C:\\Users\\SAMSUNG\\AppData\\Local\\Temp\\ipykernel_24348\\1761507763.py:1: FutureWarning: \n",
      "\n",
      "Passing `palette` without assigning `hue` is deprecated and will be removed in v0.14.0. Assign the `y` variable to `hue` and set `legend=False` for the same effect.\n",
      "\n",
      "  sns.countplot(data = df.label, palette = ['orange', 'blue'])\n"
     ]
    },
    {
     "data": {
      "text/plain": [
       "Text(0.5, 1.0, 'Fake & Real News')"
      ]
     },
     "execution_count": 5,
     "metadata": {},
     "output_type": "execute_result"
    },
    {
     "data": {
      "image/png": "[encoded data removed]",
      "text/plain": [
       "<Figure size 2000x800 with 1 Axes>"
      ]
     },
     "metadata": {},
     "output_type": "display_data"
    }
   ],
   "source": [
    "sns.countplot(data = df.label, palette = ['orange', 'blue'])\n",
    "plt.title('Fake & Real News')"
   ]
  },
  {
   "cell_type": "code",
   "execution_count": 6,
   "id": "8aaa0dee",
   "metadata": {},
   "outputs": [],
   "source": [
    "#Split the dataset into testing and training data\n",
    "x_train,x_test,y_train,y_test=train_test_split(df['text'], labels, test_size=0.2, random_state=7)"
   ]
  },
  {
   "cell_type": "code",
   "execution_count": 7,
   "id": "e6104b3a",
   "metadata": {},
   "outputs": [],
   "source": [
    "#initialize and implement TfidfVectorizer\n",
    "\n",
    "tfidf_vectorizer=TfidfVectorizer(stop_words='english', max_df=0.7)\n",
    "\n",
    "#Fit and transform train set, transform test set\n",
    "tfidf_train=tfidf_vectorizer.fit_transform(x_train) \n",
    "tfidf_test=tfidf_vectorizer.transform(x_test)"
   ]
  },
  {
   "cell_type": "code",
   "execution_count": null,
   "id": "e683e6b7",
   "metadata": {},
   "outputs": [
    {
     "name": "stdout",
     "output_type": "stream",
     "text": [
      "Accuracy: 93.13%\n"
     ]
    }
   ],
   "source": [
    "#initialize and implement a PassiveAggressiveClassifier. This is. We’ll fit this on tfidf_train and y_train. \n",
    "# Then, we’ll predict on the test set from the TfidfVectorizer and calculate the accuracy with accuracy_score() from sklearn.metrics.\n",
    "\n",
    "pac=PassiveAggressiveClassifier(max_iter=50)\n",
    "pac.fit(tfidf_train,y_train)\n",
    "\n",
    "#Predict on the test set and calculate accuracy\n",
    "y_pred=pac.predict(tfidf_test)\n",
    "score=accuracy_score(y_test,y_pred)\n",
    "print(f'Accuracy: {round(score*100,2)}%')\n",
    "#93% accuracy of fake/real news "
   ]
  },
  {
   "cell_type": "code",
   "execution_count": 26,
   "id": "35e8c1d0",
   "metadata": {},
   "outputs": [
    {
     "data": {
      "image/png": "[encoded data removed]",
      "text/plain": [
       "<Figure size 1000x600 with 1 Axes>"
      ]
     },
     "metadata": {},
     "output_type": "display_data"
    }
   ],
   "source": [
    "import matplotlib.pyplot as plt\n",
    "\n",
    "# Get the decision function scores for the test set\n",
    "test_scores = pac.decision_function(tfidf_test)\n",
    "\n",
    "# Plot the distribution\n",
    "plt.figure(figsize=(10,6))\n",
    "plt.hist(test_scores, bins=50, edgecolor='black')\n",
    "\n",
    "# Add decision boundary at 0\n",
    "plt.axvline(x=0, color='red', linestyle='--', label='Decision Boundary (0)')\n",
    "\n",
    "# Optional: thresholds at 0.5 and -0.5 if you want\n",
    "plt.axvline(x=0.5, color='green', linestyle='--', label='Threshold +0.5 (REAL)')\n",
    "plt.axvline(x=-0.5, color='blue', linestyle='--', label='Threshold -0.5 (FAKE)')\n",
    "\n",
    "plt.title('Confidence Scores Distribution on Test Set')\n",
    "plt.xlabel('Confidence Score')\n",
    "plt.ylabel('Number of Articles')\n",
    "plt.legend()\n",
    "plt.grid(True)\n",
    "plt.show()\n"
   ]
  },
  {
   "cell_type": "code",
   "execution_count": 9,
   "id": "e2f7647f",
   "metadata": {},
   "outputs": [
    {
     "name": "stdout",
     "output_type": "stream",
     "text": [
      "             Predicted FAKE  Predicted REAL\n",
      "Actual FAKE             590              48\n",
      "Actual REAL              39             590\n"
     ]
    }
   ],
   "source": [
    "#Confusion matrix\n",
    "from sklearn.metrics import confusion_matrix\n",
    "cm = confusion_matrix(y_test,y_pred, labels=['FAKE','REAL'])\n",
    "\n",
    "# Turn it into a nice table\n",
    "cm_df = pd.DataFrame(cm, \n",
    "                     index=['Actual FAKE', 'Actual REAL'], \n",
    "                     columns=['Predicted FAKE', 'Predicted REAL'])\n",
    "\n",
    "print(cm_df)\n"
   ]
  },
  {
   "cell_type": "code",
   "execution_count": 10,
   "id": "b8d2423e",
   "metadata": {},
   "outputs": [
    {
     "name": "stdout",
     "output_type": "stream",
     "text": [
      "(735, 2)\n",
      "   ArticleId                                               Text\n",
      "0       1018  qpr keeper day heads for preston queens park r...\n",
      "1       1319  software watching while you work software that...\n",
      "2       1138  d arcy injury adds to ireland woe gordon d arc...\n",
      "3        459  india s reliance family feud heats up the ongo...\n",
      "4       1020  boro suffer morrison injury blow middlesbrough...\n"
     ]
    }
   ],
   "source": [
    "#unlabeled unsupervised learning\n",
    "\n",
    "import pandas as pd\n",
    "\n",
    "new_df = pd.read_csv(\"C:\\\\Users\\\\SAMSUNG\\\\OneDrive\\\\Desktop\\\\BBC News Test.csv\") \n",
    "\n",
    "# Preview the first few entries\n",
    "print(new_df.shape)\n",
    "print(new_df.head())\n"
   ]
  },
  {
   "cell_type": "code",
   "execution_count": 13,
   "id": "1e14dfed",
   "metadata": {},
   "outputs": [
    {
     "data": {
      "text/plain": [
       "['tfidf_vectorizer.pkl']"
      ]
     },
     "execution_count": 13,
     "metadata": {},
     "output_type": "execute_result"
    }
   ],
   "source": [
    "import joblib\n",
    "joblib.dump(pac, 'fake_news_model.pkl')\n",
    "\n",
    "# Save the fitted tfidf_vectorizer too\n",
    "joblib.dump(tfidf_vectorizer, 'tfidf_vectorizer.pkl')"
   ]
  },
  {
   "cell_type": "code",
   "execution_count": 14,
   "id": "7d2d1071",
   "metadata": {},
   "outputs": [
    {
     "name": "stdout",
     "output_type": "stream",
     "text": [
      "(735, 69450)\n"
     ]
    }
   ],
   "source": [
    "X_new = tfidf_vectorizer.transform(new_df['Text'])\n",
    "\n",
    "# shape of the transformed features\n",
    "print(X_new.shape)"
   ]
  },
  {
   "cell_type": "code",
   "execution_count": null,
   "id": "0b67e734",
   "metadata": {},
   "outputs": [
    {
     "name": "stdout",
     "output_type": "stream",
     "text": [
      "['FAKE' 'REAL' 'FAKE' 'FAKE' 'FAKE' 'REAL' 'REAL' 'REAL' 'FAKE' 'FAKE']\n"
     ]
    }
   ],
   "source": [
    "import joblib\n",
    "pac_model = joblib.load(\"fake_news_model.pkl\")  \n",
    "\n",
    "# Use the trained classifier to predict labels for the new articles\n",
    "predictions = pac_model.predict(X_new)\n",
    "\n"
   ]
  },
  {
   "cell_type": "code",
   "execution_count": 16,
   "id": "54191d1a",
   "metadata": {},
   "outputs": [
    {
     "data": {
      "text/html": [
       "<div>\n",
       "<style scoped>\n",
       "    .dataframe tbody tr th:only-of-type {\n",
       "        vertical-align: middle;\n",
       "    }\n",
       "\n",
       "    .dataframe tbody tr th {\n",
       "        vertical-align: top;\n",
       "    }\n",
       "\n",
       "    .dataframe thead th {\n",
       "        text-align: right;\n",
       "    }\n",
       "</style>\n",
       "<table border=\"1\" class=\"dataframe\">\n",
       "  <thead>\n",
       "    <tr style=\"text-align: right;\">\n",
       "      <th></th>\n",
       "      <th>ArticleId</th>\n",
       "      <th>Text</th>\n",
       "      <th>predicted_label</th>\n",
       "    </tr>\n",
       "  </thead>\n",
       "  <tbody>\n",
       "    <tr>\n",
       "      <th>0</th>\n",
       "      <td>1018</td>\n",
       "      <td>qpr keeper day heads for preston queens park r...</td>\n",
       "      <td>FAKE</td>\n",
       "    </tr>\n",
       "    <tr>\n",
       "      <th>1</th>\n",
       "      <td>1319</td>\n",
       "      <td>software watching while you work software that...</td>\n",
       "      <td>REAL</td>\n",
       "    </tr>\n",
       "    <tr>\n",
       "      <th>2</th>\n",
       "      <td>1138</td>\n",
       "      <td>d arcy injury adds to ireland woe gordon d arc...</td>\n",
       "      <td>FAKE</td>\n",
       "    </tr>\n",
       "    <tr>\n",
       "      <th>3</th>\n",
       "      <td>459</td>\n",
       "      <td>india s reliance family feud heats up the ongo...</td>\n",
       "      <td>FAKE</td>\n",
       "    </tr>\n",
       "    <tr>\n",
       "      <th>4</th>\n",
       "      <td>1020</td>\n",
       "      <td>boro suffer morrison injury blow middlesbrough...</td>\n",
       "      <td>FAKE</td>\n",
       "    </tr>\n",
       "  </tbody>\n",
       "</table>\n",
       "</div>"
      ],
      "text/plain": [
       "   ArticleId                                               Text  \\\n",
       "0       1018  qpr keeper day heads for preston queens park r...   \n",
       "1       1319  software watching while you work software that...   \n",
       "2       1138  d arcy injury adds to ireland woe gordon d arc...   \n",
       "3        459  india s reliance family feud heats up the ongo...   \n",
       "4       1020  boro suffer morrison injury blow middlesbrough...   \n",
       "\n",
       "  predicted_label  \n",
       "0            FAKE  \n",
       "1            REAL  \n",
       "2            FAKE  \n",
       "3            FAKE  \n",
       "4            FAKE  "
      ]
     },
     "execution_count": 16,
     "metadata": {},
     "output_type": "execute_result"
    }
   ],
   "source": [
    "new_df['predicted_label'] = predictions\n",
    "\n",
    "# Preview the DataFrame with the new column\n",
    "new_df.head()"
   ]
  },
  {
   "cell_type": "code",
   "execution_count": 17,
   "id": "a63d9a51",
   "metadata": {},
   "outputs": [
    {
     "name": "stdout",
     "output_type": "stream",
     "text": [
      "predicted_label\n",
      "FAKE    520\n",
      "REAL    215\n",
      "Name: count, dtype: int64\n"
     ]
    }
   ],
   "source": [
    "new_df.to_csv(\"new_news_with_predictions.csv\", index=False)\n",
    "\n",
    "# For example, count the predictions\n",
    "print(new_df['predicted_label'].value_counts())"
   ]
  },
  {
   "cell_type": "code",
   "execution_count": null,
   "id": "eab0c979",
   "metadata": {},
   "outputs": [
    {
     "data": {
      "text/plain": [
       "array([-0.25869561,  0.00932965, -0.24761264, -0.92475667, -0.47680199,\n",
       "        0.26970033,  0.40958371,  0.26681202, -0.93015659, -0.19996284,\n",
       "        0.76708918, -0.92060018,  0.70919778, -0.46345707, -0.28680237,\n",
       "        0.00885526, -0.67726892, -0.96647178, -0.59228397, -0.47521575,\n",
       "        0.99199962,  0.0039141 , -0.46941339,  0.70385022, -0.07968711,\n",
       "       -0.56495519, -0.07509818, -0.31248027, -0.62186776, -0.21016098,\n",
       "       -0.56412545, -0.09518328,  0.69368774, -0.65326747, -0.12180227,\n",
       "       -0.45757598, -1.04844187,  0.30352206, -1.35464398, -0.32571393,\n",
       "        0.62956811, -0.07546622, -1.01884999, -0.1721714 , -0.89594558,\n",
       "       -0.66877514, -0.47010025,  0.27632233, -0.08952141, -0.51095238,\n",
       "        0.07153254, -0.14998166,  0.57840102, -0.91294133, -0.40215881,\n",
       "        0.34217733, -0.19764912, -0.71889215, -0.25778884, -0.51317301,\n",
       "       -0.37558429,  0.14763848, -1.01899659,  0.48498517, -0.55305512,\n",
       "       -0.27414616, -0.55159352, -0.22747945, -0.60799477, -0.45206327,\n",
       "       -1.03365519,  0.13119621,  0.24758578,  0.93016404, -0.39537773,\n",
       "       -0.21855102, -0.40944495, -0.17004602, -0.74710046, -0.44225279,\n",
       "        0.66394662, -0.02109606, -0.94580065, -0.25534715,  0.02024146,\n",
       "       -0.25607556, -1.12436212, -0.31627427, -0.09187462,  0.14235577,\n",
       "       -0.55492108,  1.07911836, -0.49384404, -0.13570073, -0.30343217,\n",
       "       -0.3724044 ,  0.30323454, -0.29348758, -0.31721964, -0.15241507,\n",
       "        1.02233753, -0.39144287,  0.54322788, -0.74216058, -0.04391513,\n",
       "       -0.0716324 , -0.4443694 , -0.20941772, -1.1709036 , -1.17251133,\n",
       "       -0.39362149,  0.80012839, -0.67253514, -0.65131301,  0.03280572,\n",
       "       -0.46635227,  0.905797  ,  0.14538598,  0.40815818,  0.07301403,\n",
       "       -0.81822049, -0.36285134, -0.78838803, -0.71929926, -0.35164394,\n",
       "        0.04996517,  0.04791643, -0.84358706, -0.29071146, -0.49692664,\n",
       "       -0.3879446 ,  0.40912489,  0.11279683, -1.09144893, -0.25594954,\n",
       "       -0.40888719,  0.37677883, -0.51102983, -0.40522641, -0.22777855,\n",
       "        0.68913917, -1.0543354 , -0.25556678, -0.68363386,  0.40696872,\n",
       "       -0.16368637,  0.17040025, -0.29800122, -0.70842976, -0.53817893,\n",
       "        0.92273732, -0.06511425,  0.33369636, -0.20502445,  0.20056865,\n",
       "       -0.60265345, -0.41231466,  0.09301518, -0.30441943, -0.42569975,\n",
       "       -0.21723908, -0.05068774,  0.78778386, -0.75050106,  0.26361066,\n",
       "       -0.50793145, -0.81719126,  0.32284019, -0.76048501,  1.39766507,\n",
       "       -0.07887471,  0.28477061, -1.47425195, -0.3937322 , -0.44293107,\n",
       "       -0.14706445,  0.16982995, -0.48691776, -0.79698109,  0.40409612,\n",
       "       -0.37678372,  0.09682659, -0.15320056, -0.51398826, -0.4984467 ,\n",
       "       -0.97890081,  0.05992927,  0.43775708, -0.82563339, -0.14771447,\n",
       "        0.8947143 , -0.21822858, -0.8961949 , -0.69259613, -0.60696832,\n",
       "       -0.89485271, -0.28295148, -0.67034088,  0.76258014, -0.64438846,\n",
       "       -0.3659015 ,  0.55012932, -0.90961511, -1.07475802,  0.5167206 ,\n",
       "       -0.02924101, -0.02829985, -0.35086431, -0.21452193, -0.07183906,\n",
       "       -0.64287493, -0.08458235, -0.43033303, -1.35464398, -0.47619165,\n",
       "       -0.47971817,  0.13922382, -0.35380083,  0.13302155, -0.41748041,\n",
       "       -0.50916917, -0.52916236, -0.58639646,  1.74742986,  0.11428636,\n",
       "        0.0790359 , -0.25776726,  0.89931611, -1.10580989, -0.79039379,\n",
       "        1.71729096, -0.14737141,  0.67426223,  0.43377153, -0.67941128,\n",
       "        0.1762845 , -0.85515635, -0.38641528, -1.09911763, -0.86872361,\n",
       "       -0.71573427, -0.71803646,  0.11163077, -0.42960493, -0.84428207,\n",
       "       -0.91410995,  0.07806362,  0.38049381,  0.14155616, -0.69330518,\n",
       "       -0.55137509, -0.96788067, -1.14014349,  0.51561764, -1.40028772,\n",
       "       -1.08019532, -1.15791228, -1.13746187, -0.7057198 , -0.86935816,\n",
       "       -0.95970179, -0.09354419, -0.56102072,  0.76124726, -1.43511912,\n",
       "        0.12694492,  0.27658496, -0.29912252,  0.19849159, -0.11137997,\n",
       "        0.13067609,  0.25545642,  0.93309711, -1.21979849, -0.20069287,\n",
       "       -0.85971179,  0.66843728, -0.21244758, -0.16541602, -0.26540698,\n",
       "       -0.24201604, -1.01477662, -0.13651622, -0.71511293, -0.92000646,\n",
       "       -0.34177562, -0.04960243, -0.22297476, -0.40035636,  0.17409712,\n",
       "       -0.86840341, -0.369595  ,  0.47328696,  0.32688195,  0.2123792 ,\n",
       "       -0.46620307, -0.47618415, -0.05314126, -0.50638579, -0.39968326,\n",
       "       -0.59040163, -0.43482267, -0.48757101, -0.72285221, -0.24156603,\n",
       "        1.04815854,  0.19251179, -0.314689  , -0.21076861, -0.15823922,\n",
       "       -0.24798201, -1.4491993 ,  0.52749867, -0.08984647,  0.37241147,\n",
       "       -0.44899072, -0.46082814,  0.19888891, -0.38567282, -0.77923869,\n",
       "        1.85535724,  0.33650005,  0.22983411,  0.44530524, -0.24301467,\n",
       "        0.22418628, -0.42799958, -0.53896189, -0.57315692, -0.5904226 ,\n",
       "       -0.53603324, -1.4491993 , -0.71133542, -0.58102642,  0.08245739,\n",
       "       -0.50191035,  0.50404982,  0.46789339, -1.56225321,  0.24717526,\n",
       "       -0.73470086,  0.3473131 ,  0.00481323, -0.24156603, -0.52837265,\n",
       "       -0.08025945, -0.24970391,  0.11093605, -0.55776984, -1.00475142,\n",
       "       -0.16746017, -0.76032258, -0.5293492 , -0.39848081,  0.05988793,\n",
       "        0.23513758,  0.11364438, -0.26976754,  0.33543847, -0.17981516,\n",
       "       -0.4075412 , -0.40394483,  0.06828701,  0.56400434, -0.26795384,\n",
       "       -0.02837621,  0.5469936 ,  0.64894843, -0.20721394,  0.1020714 ,\n",
       "       -0.64616048, -0.28999399, -0.80031013, -0.23105736, -0.24163618,\n",
       "       -0.24457158, -0.62727916, -0.23349141, -1.08694374, -0.23586897,\n",
       "       -0.1296098 , -0.2855338 , -0.44157681, -0.66504695,  0.34634002,\n",
       "       -0.29876257, -1.43095657, -0.3725767 , -0.39643644, -0.49482749,\n",
       "        0.17077867,  0.00486521, -0.15514937,  0.72036936, -0.697632  ,\n",
       "       -1.30145032, -0.28255293, -0.69074942,  0.98066301, -0.75473795,\n",
       "       -0.8916837 , -0.94308104, -0.36178478,  0.06879689,  0.56901101,\n",
       "        0.23108901,  0.0165532 , -1.2409782 , -0.4625423 , -0.31399578,\n",
       "        0.69075733, -0.62821101, -0.51017423, -0.15750838, -0.85951985,\n",
       "       -0.69396093, -0.58179792, -0.50031182,  0.25493389, -0.52788406,\n",
       "        0.68070649,  0.10487701,  0.11117485, -0.36731007, -0.47660579,\n",
       "       -0.7364105 , -0.33678361, -0.48815316, -0.28261839, -0.50000129,\n",
       "        0.33696942, -0.07049798, -0.67191887, -0.83851589, -0.50661935,\n",
       "        0.1956305 ,  1.37532508,  0.46838901, -0.64576664, -1.08957013,\n",
       "        0.04089446, -0.24342785, -1.06705356,  0.70003679, -1.08019532,\n",
       "       -0.77940038, -0.70535624, -0.42995292,  0.13475563, -0.82491845,\n",
       "       -0.40904021,  0.52749867, -0.15950034, -0.86851707, -0.36402156,\n",
       "       -0.20721394, -0.67707768, -0.41887178, -0.81436522,  1.15409366,\n",
       "       -0.76466693,  1.08472607, -0.26930667,  0.19849159,  0.20372921,\n",
       "        0.20104217, -0.16521855,  0.00919705, -0.50160092, -0.02726463,\n",
       "       -0.979519  , -0.60408949,  0.00923753, -0.56024839,  1.45922162,\n",
       "        0.47189424, -0.33749001, -0.23843885, -0.69526234, -0.56428963,\n",
       "       -0.4158787 , -0.61645038, -0.80761253, -0.02191438,  0.14242172,\n",
       "        0.05169722, -0.40126901,  0.1161783 ,  0.11288216,  0.10798185,\n",
       "       -0.25266483, -0.56438615, -0.19671206, -0.08222942, -1.33444289,\n",
       "       -0.03565943,  0.58551946,  0.28761896, -0.00816063, -0.89219735,\n",
       "        0.27289655, -0.24948794, -0.32831284, -0.66190293, -0.3840625 ,\n",
       "        0.12918417, -0.44741796,  0.40269741,  0.15272959, -0.01127275,\n",
       "        0.65415521, -0.79995299, -0.55980296, -0.09950248, -0.29680652,\n",
       "       -0.35595834, -0.01414284, -0.36185431,  0.29698672, -1.52371382,\n",
       "        0.02022031,  0.39640271, -0.44590457, -0.1440582 ,  0.68634215,\n",
       "       -0.67015722, -0.66214946,  0.63065336, -0.5550868 ,  0.29374147,\n",
       "       -0.04570866, -0.32471338, -0.81923041, -0.3867637 , -0.47626325,\n",
       "        0.52920488, -0.41997578, -0.25579287, -0.482176  , -0.7695976 ,\n",
       "       -0.83784433, -1.14875088, -0.38445918, -0.96178208,  0.04294284,\n",
       "       -0.16410106, -0.85600136, -0.04363792, -0.63640247, -0.87604749,\n",
       "        0.94456271,  0.00744119,  1.55423388, -0.52317684, -1.08957013,\n",
       "       -1.24130961,  0.78817236, -0.9355282 , -0.40967041,  0.38219194,\n",
       "       -0.87096266, -0.15674404, -0.51743626, -0.17541164, -0.30339561,\n",
       "       -0.69335331,  0.36883857, -0.08640132, -0.12990809, -0.40615447,\n",
       "        0.18002388, -0.00357252, -0.1141652 ,  0.46659913,  0.39073272,\n",
       "        0.33121232, -0.71799125,  0.2849479 , -0.26120671, -0.79099473,\n",
       "       -0.03527652,  0.37071287, -1.09389069, -0.02919588, -0.36034079,\n",
       "       -0.79782886, -0.37399352,  0.25242186, -0.81277334, -0.60530599,\n",
       "       -0.37214082,  0.86251848, -1.09535654, -0.24799105,  0.52433024,\n",
       "        0.15404558, -0.13822422, -0.88502642, -0.67163351,  0.63065336,\n",
       "       -0.66071336, -0.01078378, -0.58893578,  0.46750538, -0.52362367,\n",
       "       -0.18712089, -0.59124745,  0.03592922, -0.51921392, -0.64883052,\n",
       "       -0.40623391, -0.32619848, -1.33155168,  0.55440286,  0.17445746,\n",
       "       -0.04526455,  0.34288323, -0.56016972, -0.92458409, -0.68163094,\n",
       "        0.40943676, -0.40035636, -0.08613228,  0.54107912,  0.32530557,\n",
       "       -1.21029809, -0.74038357, -0.153525  ,  0.0775875 , -1.30013176,\n",
       "       -0.73091605, -0.48886631, -0.03727836, -0.08895429, -0.38862459,\n",
       "        0.09898188, -0.44916128, -0.99424915, -0.57067873, -0.21954308,\n",
       "       -0.58102642, -0.18825226, -0.63061117, -0.04704744, -0.33816151,\n",
       "       -0.63559909, -0.30926557, -0.73306055, -1.0502715 , -0.24479994,\n",
       "       -0.91278521, -1.52454578, -0.78932185, -0.06405251, -0.06745439,\n",
       "       -0.19071353, -1.16973597,  0.33751325, -0.57289228, -0.50274036,\n",
       "        0.32201216, -0.45246537, -0.41059914, -0.0165249 , -1.17894841,\n",
       "       -0.76615972,  0.30218658, -0.25689008,  1.01645103, -0.1454035 ,\n",
       "       -0.51980574, -0.5761109 , -0.37764268,  0.87779367, -1.14541522,\n",
       "       -0.12342113, -0.04960243,  0.05611269,  0.38957116, -0.5708086 ,\n",
       "       -0.85972995, -0.56230591, -0.74454609,  0.32556527, -0.03884723,\n",
       "       -1.4104305 , -0.21308762, -0.03015171,  0.59277431,  0.24327955,\n",
       "        0.30544182, -0.71006105, -0.04232445, -0.98489933, -0.61005438,\n",
       "       -0.45615673,  0.34749353, -0.61108181, -0.20976878,  0.9737191 ,\n",
       "       -0.90590678, -0.76185128, -0.03992329,  0.02663504, -0.21522377,\n",
       "       -0.04078464, -0.40048753, -0.64235786,  0.04437466, -0.89605745,\n",
       "       -0.90359779,  0.98832549,  1.21603827,  0.14821242, -0.61522484,\n",
       "       -0.66039734, -0.65573381, -0.22648943, -0.70842976, -0.30093898,\n",
       "       -1.13746187, -0.27029617, -0.70142727, -0.47562387,  0.23748238,\n",
       "       -1.27689943,  0.0898589 , -0.58727637, -0.88998591,  0.06086495,\n",
       "        0.61204052, -1.01044601, -0.06371572, -0.74366314,  0.20665318])"
      ]
     },
     "execution_count": 19,
     "metadata": {},
     "output_type": "execute_result"
    }
   ],
   "source": [
    "#confidence\n",
    "pac_model.decision_function(X_new)"
   ]
  },
  {
   "cell_type": "code",
   "execution_count": null,
   "id": "a943f4fd",
   "metadata": {},
   "outputs": [
    {
     "name": "stdout",
     "output_type": "stream",
     "text": [
      "['UNCERTAIN' 'UNCERTAIN' 'UNCERTAIN' 'FAKE' 'UNCERTAIN' 'UNCERTAIN'\n",
      " 'UNCERTAIN' 'UNCERTAIN' 'FAKE' 'UNCERTAIN']\n"
     ]
    }
   ],
   "source": [
    "import numpy as np\n",
    "\n",
    "def custom_predict(scores, threshold=0.5):\n",
    "    predictions = []\n",
    "    for score in scores:\n",
    "        if score < -threshold:\n",
    "            predictions.append('FAKE')\n",
    "        elif score > threshold:\n",
    "            predictions.append('REAL')\n",
    "        else:\n",
    "            predictions.append('UNCERTAIN')\n",
    "    return np.array(predictions)\n",
    "\n",
    "# Get confidence scores\n",
    "scores = pac_model.decision_function(X_new)\n",
    "\n",
    "# Apply custom threshold\n",
    "predictions_custom = custom_predict(scores, threshold=0.5)\n",
    "\n"
   ]
  },
  {
   "cell_type": "code",
   "execution_count": 21,
   "id": "22cca3df",
   "metadata": {},
   "outputs": [],
   "source": [
    "new_df['predicted_label_custom'] = predictions_custom\n",
    "new_df.to_csv('news with threshold_predictions.csv', index=False)"
   ]
  },
  {
   "cell_type": "code",
   "execution_count": 25,
   "id": "499e9244",
   "metadata": {},
   "outputs": [
    {
     "name": "stdout",
     "output_type": "stream",
     "text": [
      "UNCERTAIN    417\n",
      "FAKE         250\n",
      "REAL          68\n",
      "Name: count, dtype: int64\n"
     ]
    }
   ],
   "source": [
    "prediction_counts = pd.Series(predictions_custom).value_counts()\n",
    "print(prediction_counts)"
   ]
  },
  {
   "cell_type": "code",
   "execution_count": 23,
   "id": "3c1ff7ef",
   "metadata": {},
   "outputs": [
    {
     "data": {
      "image/png": "[encoded data removed]",
      "text/plain": [
       "<Figure size 1000x600 with 1 Axes>"
      ]
     },
     "metadata": {},
     "output_type": "display_data"
    }
   ],
   "source": [
    "scores = pac_model.decision_function(X_new)\n",
    "\n",
    "import matplotlib.pyplot as plt\n",
    "\n",
    "plt.figure(figsize=(10,6))\n",
    "\n",
    "# Plot histogram of scores\n",
    "plt.hist(scores, bins=50, edgecolor='black')\n",
    "\n",
    "# Add a vertical line at 0 (decision boundary)\n",
    "plt.axvline(x=0, color='red', linestyle='--', label='Decision Boundary (0)')\n",
    "\n",
    "# Optional: Show thresholds\n",
    "plt.axvline(x=0.5, color='green', linestyle='--', label='Threshold +0.5 (REAL)')\n",
    "plt.axvline(x=-0.5, color='blue', linestyle='--', label='Threshold -0.5 (FAKE)')\n",
    "\n",
    "plt.title('Confidence Scores Distribution on BBC News Articles')\n",
    "plt.xlabel('Confidence Score')\n",
    "plt.ylabel('Number of Articles')\n",
    "plt.legend()\n",
    "plt.grid(True)\n",
    "plt.show()\n"
   ]
  },
  {
   "cell_type": "code",
   "execution_count": null,
   "id": "6aa524ac",
   "metadata": {},
   "outputs": [],
   "source": []
  }
 ],
 "metadata": {
  "kernelspec": {
   "display_name": "Python 3",
   "language": "python",
   "name": "python3"
  },
  "language_info": {
   "codemirror_mode": {
    "name": "ipython",
    "version": 3
   },
   "file_extension": ".py",
   "mimetype": "text/x-python",
   "name": "python",
   "nbconvert_exporter": "python",
   "pygments_lexer": "ipython3",
   "version": "3.11.9"
  }
 },
 "nbformat": 4,
 "nbformat_minor": 5
}
